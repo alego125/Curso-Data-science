{
 "cells": [
  {
   "cell_type": "markdown",
   "id": "59b0109c",
   "metadata": {},
   "source": [
    "STRING"
   ]
  },
  {
   "cell_type": "markdown",
   "id": "5db58282",
   "metadata": {},
   "source": [
    "Creacion de nombre completo a partir de dos variables teniendo en cuenta capitalize"
   ]
  },
  {
   "cell_type": "code",
   "execution_count": 14,
   "id": "e0c3e316",
   "metadata": {},
   "outputs": [
    {
     "name": "stdout",
     "output_type": "stream",
     "text": [
      "Alejandro Gomez\n"
     ]
    }
   ],
   "source": [
    "firt_name = \"alejandro\"\n",
    "last_name = \"gomez\"\n",
    "print(firt_name.capitalize() + \" \" + last_name.capitalize())"
   ]
  },
  {
   "cell_type": "markdown",
   "id": "0eb30526",
   "metadata": {},
   "source": [
    "Corroborando la longitud del nombre"
   ]
  },
  {
   "cell_type": "code",
   "execution_count": 15,
   "id": "81b2a1e3",
   "metadata": {},
   "outputs": [
    {
     "name": "stdout",
     "output_type": "stream",
     "text": [
      "La cantidad de letras del nombre es:  14\n"
     ]
    }
   ],
   "source": [
    "full_name = firt_name + last_name\n",
    "print(\"La cantidad de letras del nombre es: \", len(full_name))"
   ]
  },
  {
   "cell_type": "markdown",
   "id": "73c0ea3b",
   "metadata": {},
   "source": [
    "Construccion de la fecha de hoy a partir de 3 variables"
   ]
  },
  {
   "cell_type": "code",
   "execution_count": 16,
   "id": "4174f1a6",
   "metadata": {},
   "outputs": [
    {
     "name": "stdout",
     "output_type": "stream",
     "text": [
      "Fecha:  18  de  Junio  del  2021\n"
     ]
    }
   ],
   "source": [
    "day = 18\n",
    "month = \"Junio\"\n",
    "year = 2021\n",
    "print(\"Fecha: \", day, \" de \", month, \" del \", year)"
   ]
  },
  {
   "cell_type": "markdown",
   "id": "72aacba9",
   "metadata": {},
   "source": [
    "INTEGER AND FLOAT"
   ]
  },
  {
   "cell_type": "markdown",
   "id": "a8b402d8",
   "metadata": {},
   "source": [
    "Calculo de la edad a partir de dato pasado por variable"
   ]
  },
  {
   "cell_type": "code",
   "execution_count": 17,
   "id": "505f7b6e",
   "metadata": {},
   "outputs": [
    {
     "name": "stdout",
     "output_type": "stream",
     "text": [
      "Ingrese su edad: 30\n",
      "Usted ha vivido una cantidad de:  946080000  segundos\n"
     ]
    }
   ],
   "source": [
    "edad = int(input(\"Ingrese su edad: \"))\n",
    "edad_segundos = ((((edad*365)*24)*60)*60)\n",
    "print(\"Usted ha vivido una cantidad de: \", edad_segundos, \" segundos\")"
   ]
  },
  {
   "cell_type": "markdown",
   "id": "664268df",
   "metadata": {},
   "source": [
    "Calculo de promedio de calificaciones"
   ]
  },
  {
   "cell_type": "code",
   "execution_count": 25,
   "id": "1ebb230b",
   "metadata": {},
   "outputs": [
    {
     "name": "stdout",
     "output_type": "stream",
     "text": [
      "El promedio de calificaciones es:  14.4\n"
     ]
    }
   ],
   "source": [
    "notas = [15,12,11,16,18]\n",
    "num=0\n",
    "for i in notas:\n",
    "    num += i\n",
    "prom = num/len(notas)\n",
    "print(\"El promedio de calificaciones es: \", prom)"
   ]
  },
  {
   "cell_type": "markdown",
   "id": "d991605b",
   "metadata": {},
   "source": [
    "BOOLEAN"
   ]
  },
  {
   "cell_type": "markdown",
   "id": "7f1c8b10",
   "metadata": {},
   "source": [
    "Comprobar el nombre mas largo"
   ]
  },
  {
   "cell_type": "code",
   "execution_count": 11,
   "id": "8cf6e2d3",
   "metadata": {},
   "outputs": [
    {
     "name": "stdout",
     "output_type": "stream",
     "text": [
      "El nombre con mayor longitud es:  alejandro\n",
      "Con  9  caracteres\n"
     ]
    }
   ],
   "source": [
    "lista_nombres = [\"miguel\", \"carlos\", \"alejandro\", \"patricia\", \"roberto\", \"maria\"]\n",
    "lista_longitud = []\n",
    "\n",
    "for i in range(len(lista_nombres)):\n",
    "    longitud = len(lista_nombres[i])\n",
    "    lista_longitud.append(longitud)\n",
    "\n",
    "mayor = max(lista_longitud)\n",
    "\n",
    "for i in range(len(lista_nombres)):\n",
    "    if len(lista_nombres[i]) == mayor:\n",
    "        nombre_mayor = lista_nombres[i]\n",
    "    \n",
    "print(\"El nombre con mayor longitud es: \", nombre_mayor)\n",
    "print(\"Con \", mayor, \" caracteres\")"
   ]
  },
  {
   "cell_type": "markdown",
   "id": "00eb5be4",
   "metadata": {},
   "source": [
    "Comparacion de variables"
   ]
  },
  {
   "cell_type": "code",
   "execution_count": 10,
   "id": "676b2c6f",
   "metadata": {},
   "outputs": [
    {
     "name": "stdout",
     "output_type": "stream",
     "text": [
      "Las variables tienen el mismo valor \n",
      "Valor de la variable:  23443\n"
     ]
    }
   ],
   "source": [
    "variable1 = 23443\n",
    "variable2 = 23443\n",
    "\n",
    "if variable1 == variable2:\n",
    "    print(\"Las variables tienen el mismo valor\", \"\\nValor de la variable: \", variable1)\n",
    "else:\n",
    "    print(\"Las variables son distintas\", \"\\nVariable 1: \", variable1, \"\\nVariable 2: \", variable2)"
   ]
  },
  {
   "cell_type": "markdown",
   "id": "4e704abd",
   "metadata": {},
   "source": [
    "Verificar si es mañana o tarde. Con un condicional"
   ]
  },
  {
   "cell_type": "code",
   "execution_count": 9,
   "id": "6503f906",
   "metadata": {},
   "outputs": [
    {
     "name": "stdout",
     "output_type": "stream",
     "text": [
      "Coloque la hora: 15\n",
      "Es de tarde\n"
     ]
    }
   ],
   "source": [
    "hour = int(input(\"Coloque la hora: \"))\n",
    "\n",
    "if hour > 6 and hour < 12:\n",
    "    print(\"Es de mañana\")\n",
    "elif hour > 12 and hour < 19:\n",
    "    print(\"Es de tarde\")\n",
    "elif (hour >= 0 and hour < 6) or (hour > 19 and hour < 24):\n",
    "    print(\"Es de noche\")\n",
    "elif hour > 23:\n",
    "    print(\"La hora ingresada no existe\")\n",
    "    "
   ]
  }
 ],
 "metadata": {
  "kernelspec": {
   "display_name": "Python 3",
   "language": "python",
   "name": "python3"
  },
  "language_info": {
   "codemirror_mode": {
    "name": "ipython",
    "version": 3
   },
   "file_extension": ".py",
   "mimetype": "text/x-python",
   "name": "python",
   "nbconvert_exporter": "python",
   "pygments_lexer": "ipython3",
   "version": "3.8.1"
  }
 },
 "nbformat": 4,
 "nbformat_minor": 5
}
